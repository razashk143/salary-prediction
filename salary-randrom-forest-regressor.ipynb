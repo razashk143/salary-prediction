{
 "cells": [
  {
   "cell_type": "code",
   "execution_count": 1,
   "id": "c1140bfd",
   "metadata": {
    "_cell_guid": "b1076dfc-b9ad-4769-8c92-a6c4dae69d19",
    "_uuid": "8f2839f25d086af736a60e9eeb907d3b93b6e0e5",
    "execution": {
     "iopub.execute_input": "2024-08-06T17:58:54.618712Z",
     "iopub.status.busy": "2024-08-06T17:58:54.618235Z",
     "iopub.status.idle": "2024-08-06T17:58:57.033845Z",
     "shell.execute_reply": "2024-08-06T17:58:57.032537Z"
    },
    "papermill": {
     "duration": 2.427167,
     "end_time": "2024-08-06T17:58:57.036504",
     "exception": false,
     "start_time": "2024-08-06T17:58:54.609337",
     "status": "completed"
    },
    "tags": []
   },
   "outputs": [
    {
     "name": "stdout",
     "output_type": "stream",
     "text": [
      "/kaggle/input/salary-data/Salary_Data.csv\n"
     ]
    },
    {
     "data": {
      "text/html": [
       "<div>\n",
       "<style scoped>\n",
       "    .dataframe tbody tr th:only-of-type {\n",
       "        vertical-align: middle;\n",
       "    }\n",
       "\n",
       "    .dataframe tbody tr th {\n",
       "        vertical-align: top;\n",
       "    }\n",
       "\n",
       "    .dataframe thead th {\n",
       "        text-align: right;\n",
       "    }\n",
       "</style>\n",
       "<table border=\"1\" class=\"dataframe\">\n",
       "  <thead>\n",
       "    <tr style=\"text-align: right;\">\n",
       "      <th></th>\n",
       "      <th>Age</th>\n",
       "      <th>Gender</th>\n",
       "      <th>Education Level</th>\n",
       "      <th>Job Title</th>\n",
       "      <th>Years of Experience</th>\n",
       "      <th>Salary</th>\n",
       "    </tr>\n",
       "  </thead>\n",
       "  <tbody>\n",
       "    <tr>\n",
       "      <th>0</th>\n",
       "      <td>32.0</td>\n",
       "      <td>Male</td>\n",
       "      <td>Bachelor's</td>\n",
       "      <td>Software Engineer</td>\n",
       "      <td>5.0</td>\n",
       "      <td>90000.0</td>\n",
       "    </tr>\n",
       "    <tr>\n",
       "      <th>1</th>\n",
       "      <td>28.0</td>\n",
       "      <td>Female</td>\n",
       "      <td>Master's</td>\n",
       "      <td>Data Analyst</td>\n",
       "      <td>3.0</td>\n",
       "      <td>65000.0</td>\n",
       "    </tr>\n",
       "    <tr>\n",
       "      <th>2</th>\n",
       "      <td>45.0</td>\n",
       "      <td>Male</td>\n",
       "      <td>PhD</td>\n",
       "      <td>Senior Manager</td>\n",
       "      <td>15.0</td>\n",
       "      <td>150000.0</td>\n",
       "    </tr>\n",
       "    <tr>\n",
       "      <th>3</th>\n",
       "      <td>36.0</td>\n",
       "      <td>Female</td>\n",
       "      <td>Bachelor's</td>\n",
       "      <td>Sales Associate</td>\n",
       "      <td>7.0</td>\n",
       "      <td>60000.0</td>\n",
       "    </tr>\n",
       "    <tr>\n",
       "      <th>4</th>\n",
       "      <td>52.0</td>\n",
       "      <td>Male</td>\n",
       "      <td>Master's</td>\n",
       "      <td>Director</td>\n",
       "      <td>20.0</td>\n",
       "      <td>200000.0</td>\n",
       "    </tr>\n",
       "  </tbody>\n",
       "</table>\n",
       "</div>"
      ],
      "text/plain": [
       "    Age  Gender Education Level          Job Title  Years of Experience  \\\n",
       "0  32.0    Male      Bachelor's  Software Engineer                  5.0   \n",
       "1  28.0  Female        Master's       Data Analyst                  3.0   \n",
       "2  45.0    Male             PhD     Senior Manager                 15.0   \n",
       "3  36.0  Female      Bachelor's    Sales Associate                  7.0   \n",
       "4  52.0    Male        Master's           Director                 20.0   \n",
       "\n",
       "     Salary  \n",
       "0   90000.0  \n",
       "1   65000.0  \n",
       "2  150000.0  \n",
       "3   60000.0  \n",
       "4  200000.0  "
      ]
     },
     "execution_count": 1,
     "metadata": {},
     "output_type": "execute_result"
    }
   ],
   "source": [
    "# This Python 3 environment comes with many helpful analytics libraries installed\n",
    "# It is defined by the kaggle/python Docker image: https://github.com/kaggle/docker-python\n",
    "# For example, here's several helpful packages to load\n",
    "\n",
    "import numpy as np\n",
    "import pandas as pd\n",
    "from sklearn.model_selection import train_test_split, RandomizedSearchCV, cross_val_score\n",
    "from sklearn.metrics import accuracy_score, classification_report\n",
    "\n",
    "\n",
    "from sklearn.linear_model import LinearRegression\n",
    "# data processing, CSV file I/O (e.g. pd.read_csv)\n",
    "\n",
    "# Input data files are available in the read-only \"../input/\" directory\n",
    "# For example, running this (by clicking run or pressing Shift+Enter) will list all files under the input directory\n",
    "\n",
    "import os\n",
    "for dirname, _, filenames in os.walk('/kaggle/input'):\n",
    "    for filename in filenames:\n",
    "        print(os.path.join(dirname, filename))\n",
    "import os\n",
    "os.listdir('/kaggle/input/salary-data')\n",
    "df=pd.read_csv('/kaggle/input/salary-data/Salary_Data.csv')\n",
    "df.head()\n",
    "# You can write up to 20GB to the current directory (/kaggle/working/) that gets preserved as output when you create a version using \"Save & Run All\" \n",
    "# You can also write temporary files to /kaggle/temp/, but they won't be saved outside of the current session"
   ]
  },
  {
   "cell_type": "code",
   "execution_count": 2,
   "id": "d09a1f2b",
   "metadata": {
    "execution": {
     "iopub.execute_input": "2024-08-06T17:58:57.051775Z",
     "iopub.status.busy": "2024-08-06T17:58:57.051368Z",
     "iopub.status.idle": "2024-08-06T17:58:57.066193Z",
     "shell.execute_reply": "2024-08-06T17:58:57.065071Z"
    },
    "papermill": {
     "duration": 0.025485,
     "end_time": "2024-08-06T17:58:57.068811",
     "exception": false,
     "start_time": "2024-08-06T17:58:57.043326",
     "status": "completed"
    },
    "tags": []
   },
   "outputs": [],
   "source": [
    "##categorical to numerical\n",
    "from sklearn.preprocessing import LabelEncoder\n",
    "genderLE=LabelEncoder()\n",
    "df['Gender']=genderLE.fit_transform(df['Gender'])\n",
    "\n",
    "educationLE=LabelEncoder()\n",
    "df['Education Level']=educationLE.fit_transform(df['Education Level'])\n",
    "\n",
    "jobLE=LabelEncoder()\n",
    "df['Job Title']=jobLE.fit_transform(df['Job Title'])\n"
   ]
  },
  {
   "cell_type": "code",
   "execution_count": 3,
   "id": "bda1e5ef",
   "metadata": {
    "execution": {
     "iopub.execute_input": "2024-08-06T17:58:57.083545Z",
     "iopub.status.busy": "2024-08-06T17:58:57.083186Z",
     "iopub.status.idle": "2024-08-06T17:58:57.105297Z",
     "shell.execute_reply": "2024-08-06T17:58:57.104201Z"
    },
    "papermill": {
     "duration": 0.032548,
     "end_time": "2024-08-06T17:58:57.107912",
     "exception": false,
     "start_time": "2024-08-06T17:58:57.075364",
     "status": "completed"
    },
    "tags": []
   },
   "outputs": [
    {
     "data": {
      "text/html": [
       "<div>\n",
       "<style scoped>\n",
       "    .dataframe tbody tr th:only-of-type {\n",
       "        vertical-align: middle;\n",
       "    }\n",
       "\n",
       "    .dataframe tbody tr th {\n",
       "        vertical-align: top;\n",
       "    }\n",
       "\n",
       "    .dataframe thead th {\n",
       "        text-align: right;\n",
       "    }\n",
       "</style>\n",
       "<table border=\"1\" class=\"dataframe\">\n",
       "  <thead>\n",
       "    <tr style=\"text-align: right;\">\n",
       "      <th></th>\n",
       "      <th>Age</th>\n",
       "      <th>Gender</th>\n",
       "      <th>Education Level</th>\n",
       "      <th>Job Title</th>\n",
       "      <th>Years of Experience</th>\n",
       "      <th>Salary</th>\n",
       "    </tr>\n",
       "  </thead>\n",
       "  <tbody>\n",
       "    <tr>\n",
       "      <th>0</th>\n",
       "      <td>32.0</td>\n",
       "      <td>1</td>\n",
       "      <td>0</td>\n",
       "      <td>177</td>\n",
       "      <td>5.0</td>\n",
       "      <td>90000.0</td>\n",
       "    </tr>\n",
       "    <tr>\n",
       "      <th>1</th>\n",
       "      <td>28.0</td>\n",
       "      <td>0</td>\n",
       "      <td>3</td>\n",
       "      <td>18</td>\n",
       "      <td>3.0</td>\n",
       "      <td>65000.0</td>\n",
       "    </tr>\n",
       "    <tr>\n",
       "      <th>2</th>\n",
       "      <td>45.0</td>\n",
       "      <td>1</td>\n",
       "      <td>5</td>\n",
       "      <td>145</td>\n",
       "      <td>15.0</td>\n",
       "      <td>150000.0</td>\n",
       "    </tr>\n",
       "    <tr>\n",
       "      <th>3</th>\n",
       "      <td>36.0</td>\n",
       "      <td>0</td>\n",
       "      <td>0</td>\n",
       "      <td>116</td>\n",
       "      <td>7.0</td>\n",
       "      <td>60000.0</td>\n",
       "    </tr>\n",
       "    <tr>\n",
       "      <th>4</th>\n",
       "      <td>52.0</td>\n",
       "      <td>1</td>\n",
       "      <td>3</td>\n",
       "      <td>26</td>\n",
       "      <td>20.0</td>\n",
       "      <td>200000.0</td>\n",
       "    </tr>\n",
       "  </tbody>\n",
       "</table>\n",
       "</div>"
      ],
      "text/plain": [
       "    Age  Gender  Education Level  Job Title  Years of Experience    Salary\n",
       "0  32.0       1                0        177                  5.0   90000.0\n",
       "1  28.0       0                3         18                  3.0   65000.0\n",
       "2  45.0       1                5        145                 15.0  150000.0\n",
       "3  36.0       0                0        116                  7.0   60000.0\n",
       "4  52.0       1                3         26                 20.0  200000.0"
      ]
     },
     "execution_count": 3,
     "metadata": {},
     "output_type": "execute_result"
    }
   ],
   "source": [
    "df=df.dropna(axis=0)\n",
    "#print(df)\n",
    "df.head()"
   ]
  },
  {
   "cell_type": "code",
   "execution_count": 4,
   "id": "26806427",
   "metadata": {
    "execution": {
     "iopub.execute_input": "2024-08-06T17:58:57.123326Z",
     "iopub.status.busy": "2024-08-06T17:58:57.122459Z",
     "iopub.status.idle": "2024-08-06T17:58:57.129085Z",
     "shell.execute_reply": "2024-08-06T17:58:57.128053Z"
    },
    "papermill": {
     "duration": 0.016884,
     "end_time": "2024-08-06T17:58:57.131449",
     "exception": false,
     "start_time": "2024-08-06T17:58:57.114565",
     "status": "completed"
    },
    "tags": []
   },
   "outputs": [],
   "source": [
    "X=df.drop(columns='Salary')\n",
    "y=df['Salary']"
   ]
  },
  {
   "cell_type": "code",
   "execution_count": 5,
   "id": "b7fcf812",
   "metadata": {
    "execution": {
     "iopub.execute_input": "2024-08-06T17:58:57.146529Z",
     "iopub.status.busy": "2024-08-06T17:58:57.146171Z",
     "iopub.status.idle": "2024-08-06T17:58:57.156090Z",
     "shell.execute_reply": "2024-08-06T17:58:57.155075Z"
    },
    "papermill": {
     "duration": 0.020394,
     "end_time": "2024-08-06T17:58:57.158553",
     "exception": false,
     "start_time": "2024-08-06T17:58:57.138159",
     "status": "completed"
    },
    "tags": []
   },
   "outputs": [],
   "source": [
    "x_train,x_test,y_train,y_test=train_test_split(X,y,random_state=21,test_size=0.2)\n",
    "#print(\"x train shape and y train shape respectively: \",x_train.shape,y_train.shape)\n"
   ]
  },
  {
   "cell_type": "code",
   "execution_count": 6,
   "id": "97cedd43",
   "metadata": {
    "execution": {
     "iopub.execute_input": "2024-08-06T17:58:57.173792Z",
     "iopub.status.busy": "2024-08-06T17:58:57.173402Z",
     "iopub.status.idle": "2024-08-06T17:58:57.279334Z",
     "shell.execute_reply": "2024-08-06T17:58:57.278326Z"
    },
    "papermill": {
     "duration": 0.116723,
     "end_time": "2024-08-06T17:58:57.282123",
     "exception": false,
     "start_time": "2024-08-06T17:58:57.165400",
     "status": "completed"
    },
    "tags": []
   },
   "outputs": [],
   "source": [
    "from sklearn.tree import DecisionTreeRegressor\n",
    "tree=DecisionTreeRegressor()"
   ]
  },
  {
   "cell_type": "code",
   "execution_count": 7,
   "id": "ac865bc0",
   "metadata": {
    "execution": {
     "iopub.execute_input": "2024-08-06T17:58:57.297585Z",
     "iopub.status.busy": "2024-08-06T17:58:57.297195Z",
     "iopub.status.idle": "2024-08-06T17:58:57.303004Z",
     "shell.execute_reply": "2024-08-06T17:58:57.301780Z"
    },
    "papermill": {
     "duration": 0.016373,
     "end_time": "2024-08-06T17:58:57.305472",
     "exception": false,
     "start_time": "2024-08-06T17:58:57.289099",
     "status": "completed"
    },
    "tags": []
   },
   "outputs": [],
   "source": [
    "parameters={'max_depth': [3, 5, 7],'min_samples_split': [5, 10, 15]}"
   ]
  },
  {
   "cell_type": "code",
   "execution_count": 8,
   "id": "ef65d170",
   "metadata": {
    "execution": {
     "iopub.execute_input": "2024-08-06T17:58:57.321045Z",
     "iopub.status.busy": "2024-08-06T17:58:57.320301Z",
     "iopub.status.idle": "2024-08-06T17:58:57.797453Z",
     "shell.execute_reply": "2024-08-06T17:58:57.796406Z"
    },
    "papermill": {
     "duration": 0.487918,
     "end_time": "2024-08-06T17:58:57.800211",
     "exception": false,
     "start_time": "2024-08-06T17:58:57.312293",
     "status": "completed"
    },
    "tags": []
   },
   "outputs": [
    {
     "data": {
      "text/html": [
       "<style>#sk-container-id-1 {color: black;background-color: white;}#sk-container-id-1 pre{padding: 0;}#sk-container-id-1 div.sk-toggleable {background-color: white;}#sk-container-id-1 label.sk-toggleable__label {cursor: pointer;display: block;width: 100%;margin-bottom: 0;padding: 0.3em;box-sizing: border-box;text-align: center;}#sk-container-id-1 label.sk-toggleable__label-arrow:before {content: \"▸\";float: left;margin-right: 0.25em;color: #696969;}#sk-container-id-1 label.sk-toggleable__label-arrow:hover:before {color: black;}#sk-container-id-1 div.sk-estimator:hover label.sk-toggleable__label-arrow:before {color: black;}#sk-container-id-1 div.sk-toggleable__content {max-height: 0;max-width: 0;overflow: hidden;text-align: left;background-color: #f0f8ff;}#sk-container-id-1 div.sk-toggleable__content pre {margin: 0.2em;color: black;border-radius: 0.25em;background-color: #f0f8ff;}#sk-container-id-1 input.sk-toggleable__control:checked~div.sk-toggleable__content {max-height: 200px;max-width: 100%;overflow: auto;}#sk-container-id-1 input.sk-toggleable__control:checked~label.sk-toggleable__label-arrow:before {content: \"▾\";}#sk-container-id-1 div.sk-estimator input.sk-toggleable__control:checked~label.sk-toggleable__label {background-color: #d4ebff;}#sk-container-id-1 div.sk-label input.sk-toggleable__control:checked~label.sk-toggleable__label {background-color: #d4ebff;}#sk-container-id-1 input.sk-hidden--visually {border: 0;clip: rect(1px 1px 1px 1px);clip: rect(1px, 1px, 1px, 1px);height: 1px;margin: -1px;overflow: hidden;padding: 0;position: absolute;width: 1px;}#sk-container-id-1 div.sk-estimator {font-family: monospace;background-color: #f0f8ff;border: 1px dotted black;border-radius: 0.25em;box-sizing: border-box;margin-bottom: 0.5em;}#sk-container-id-1 div.sk-estimator:hover {background-color: #d4ebff;}#sk-container-id-1 div.sk-parallel-item::after {content: \"\";width: 100%;border-bottom: 1px solid gray;flex-grow: 1;}#sk-container-id-1 div.sk-label:hover label.sk-toggleable__label {background-color: #d4ebff;}#sk-container-id-1 div.sk-serial::before {content: \"\";position: absolute;border-left: 1px solid gray;box-sizing: border-box;top: 0;bottom: 0;left: 50%;z-index: 0;}#sk-container-id-1 div.sk-serial {display: flex;flex-direction: column;align-items: center;background-color: white;padding-right: 0.2em;padding-left: 0.2em;position: relative;}#sk-container-id-1 div.sk-item {position: relative;z-index: 1;}#sk-container-id-1 div.sk-parallel {display: flex;align-items: stretch;justify-content: center;background-color: white;position: relative;}#sk-container-id-1 div.sk-item::before, #sk-container-id-1 div.sk-parallel-item::before {content: \"\";position: absolute;border-left: 1px solid gray;box-sizing: border-box;top: 0;bottom: 0;left: 50%;z-index: -1;}#sk-container-id-1 div.sk-parallel-item {display: flex;flex-direction: column;z-index: 1;position: relative;background-color: white;}#sk-container-id-1 div.sk-parallel-item:first-child::after {align-self: flex-end;width: 50%;}#sk-container-id-1 div.sk-parallel-item:last-child::after {align-self: flex-start;width: 50%;}#sk-container-id-1 div.sk-parallel-item:only-child::after {width: 0;}#sk-container-id-1 div.sk-dashed-wrapped {border: 1px dashed gray;margin: 0 0.4em 0.5em 0.4em;box-sizing: border-box;padding-bottom: 0.4em;background-color: white;}#sk-container-id-1 div.sk-label label {font-family: monospace;font-weight: bold;display: inline-block;line-height: 1.2em;}#sk-container-id-1 div.sk-label-container {text-align: center;}#sk-container-id-1 div.sk-container {/* jupyter's `normalize.less` sets `[hidden] { display: none; }` but bootstrap.min.css set `[hidden] { display: none !important; }` so we also need the `!important` here to be able to override the default hidden behavior on the sphinx rendered scikit-learn.org. See: https://github.com/scikit-learn/scikit-learn/issues/21755 */display: inline-block !important;position: relative;}#sk-container-id-1 div.sk-text-repr-fallback {display: none;}</style><div id=\"sk-container-id-1\" class=\"sk-top-container\"><div class=\"sk-text-repr-fallback\"><pre>GridSearchCV(cv=5, estimator=DecisionTreeRegressor(),\n",
       "             param_grid={&#x27;max_depth&#x27;: [3, 5, 7],\n",
       "                         &#x27;min_samples_split&#x27;: [5, 10, 15]},\n",
       "             scoring=&#x27;r2&#x27;)</pre><b>In a Jupyter environment, please rerun this cell to show the HTML representation or trust the notebook. <br />On GitHub, the HTML representation is unable to render, please try loading this page with nbviewer.org.</b></div><div class=\"sk-container\" hidden><div class=\"sk-item sk-dashed-wrapped\"><div class=\"sk-label-container\"><div class=\"sk-label sk-toggleable\"><input class=\"sk-toggleable__control sk-hidden--visually\" id=\"sk-estimator-id-1\" type=\"checkbox\" ><label for=\"sk-estimator-id-1\" class=\"sk-toggleable__label sk-toggleable__label-arrow\">GridSearchCV</label><div class=\"sk-toggleable__content\"><pre>GridSearchCV(cv=5, estimator=DecisionTreeRegressor(),\n",
       "             param_grid={&#x27;max_depth&#x27;: [3, 5, 7],\n",
       "                         &#x27;min_samples_split&#x27;: [5, 10, 15]},\n",
       "             scoring=&#x27;r2&#x27;)</pre></div></div></div><div class=\"sk-parallel\"><div class=\"sk-parallel-item\"><div class=\"sk-item\"><div class=\"sk-label-container\"><div class=\"sk-label sk-toggleable\"><input class=\"sk-toggleable__control sk-hidden--visually\" id=\"sk-estimator-id-2\" type=\"checkbox\" ><label for=\"sk-estimator-id-2\" class=\"sk-toggleable__label sk-toggleable__label-arrow\">estimator: DecisionTreeRegressor</label><div class=\"sk-toggleable__content\"><pre>DecisionTreeRegressor()</pre></div></div></div><div class=\"sk-serial\"><div class=\"sk-item\"><div class=\"sk-estimator sk-toggleable\"><input class=\"sk-toggleable__control sk-hidden--visually\" id=\"sk-estimator-id-3\" type=\"checkbox\" ><label for=\"sk-estimator-id-3\" class=\"sk-toggleable__label sk-toggleable__label-arrow\">DecisionTreeRegressor</label><div class=\"sk-toggleable__content\"><pre>DecisionTreeRegressor()</pre></div></div></div></div></div></div></div></div></div></div>"
      ],
      "text/plain": [
       "GridSearchCV(cv=5, estimator=DecisionTreeRegressor(),\n",
       "             param_grid={'max_depth': [3, 5, 7],\n",
       "                         'min_samples_split': [5, 10, 15]},\n",
       "             scoring='r2')"
      ]
     },
     "execution_count": 8,
     "metadata": {},
     "output_type": "execute_result"
    }
   ],
   "source": [
    "from sklearn.model_selection import GridSearchCV\n",
    "grid=GridSearchCV(estimator=tree,param_grid=parameters,cv=5,scoring='r2',)\n",
    "grid.fit(x_train,y_train)\n"
   ]
  },
  {
   "cell_type": "code",
   "execution_count": 9,
   "id": "59ee35c8",
   "metadata": {
    "execution": {
     "iopub.execute_input": "2024-08-06T17:58:57.816440Z",
     "iopub.status.busy": "2024-08-06T17:58:57.816034Z",
     "iopub.status.idle": "2024-08-06T17:58:57.827019Z",
     "shell.execute_reply": "2024-08-06T17:58:57.825600Z"
    },
    "papermill": {
     "duration": 0.022055,
     "end_time": "2024-08-06T17:58:57.829491",
     "exception": false,
     "start_time": "2024-08-06T17:58:57.807436",
     "status": "completed"
    },
    "tags": []
   },
   "outputs": [
    {
     "name": "stdout",
     "output_type": "stream",
     "text": [
      "DecisionTreeRegressor(max_depth=7, min_samples_split=5)\n",
      "0.9197837221573962\n",
      "0.9074043062174926\n"
     ]
    }
   ],
   "source": [
    "print(grid.best_estimator_)\n",
    "print(grid.best_score_)\n",
    "print(grid.score(x_test,y_test))  "
   ]
  },
  {
   "cell_type": "code",
   "execution_count": 10,
   "id": "bc231733",
   "metadata": {
    "execution": {
     "iopub.execute_input": "2024-08-06T17:58:57.848295Z",
     "iopub.status.busy": "2024-08-06T17:58:57.847278Z",
     "iopub.status.idle": "2024-08-06T17:58:57.853709Z",
     "shell.execute_reply": "2024-08-06T17:58:57.852565Z"
    },
    "papermill": {
     "duration": 0.018057,
     "end_time": "2024-08-06T17:58:57.856098",
     "exception": false,
     "start_time": "2024-08-06T17:58:57.838041",
     "status": "completed"
    },
    "tags": []
   },
   "outputs": [],
   "source": [
    "##Linear Regression Using Randomized Search\n",
    "from sklearn.model_selection import GridSearchCV\n",
    "lr=LinearRegression()\n",
    "dist={'fit_intercept':[True,False]}\n",
    "rs=GridSearchCV(estimator=lr,param_grid=dist,cv=3,scoring='r2')"
   ]
  },
  {
   "cell_type": "code",
   "execution_count": 11,
   "id": "ab989468",
   "metadata": {
    "execution": {
     "iopub.execute_input": "2024-08-06T17:58:57.872680Z",
     "iopub.status.busy": "2024-08-06T17:58:57.872276Z",
     "iopub.status.idle": "2024-08-06T17:58:57.946027Z",
     "shell.execute_reply": "2024-08-06T17:58:57.944664Z"
    },
    "papermill": {
     "duration": 0.084753,
     "end_time": "2024-08-06T17:58:57.948628",
     "exception": false,
     "start_time": "2024-08-06T17:58:57.863875",
     "status": "completed"
    },
    "tags": []
   },
   "outputs": [
    {
     "name": "stdout",
     "output_type": "stream",
     "text": [
      "LinearRegression()\n",
      "0.6676393958338905\n"
     ]
    }
   ],
   "source": [
    "rs.fit(x_train,y_train)\n",
    "print(rs.best_estimator_)\n",
    "print(rs.best_score_)\n",
    "##low score. not suitable"
   ]
  },
  {
   "cell_type": "code",
   "execution_count": 12,
   "id": "8427cb5f",
   "metadata": {
    "execution": {
     "iopub.execute_input": "2024-08-06T17:58:57.965475Z",
     "iopub.status.busy": "2024-08-06T17:58:57.964547Z",
     "iopub.status.idle": "2024-08-06T17:58:58.047782Z",
     "shell.execute_reply": "2024-08-06T17:58:58.046814Z"
    },
    "papermill": {
     "duration": 0.094384,
     "end_time": "2024-08-06T17:58:58.050443",
     "exception": false,
     "start_time": "2024-08-06T17:58:57.956059",
     "status": "completed"
    },
    "tags": []
   },
   "outputs": [],
   "source": [
    "##Random Forest Regressor\n",
    "\n",
    "from sklearn.ensemble import RandomForestRegressor\n",
    "from sklearn.model_selection import RandomizedSearchCV\n",
    "from scipy.stats import randint\n",
    "rf=RandomForestRegressor()\n",
    "params={'n_estimators':randint(5,100),'max_depth':randint(3,50),'min_samples_leaf':randint(2,10)}\n",
    "rs2=RandomizedSearchCV(estimator=rf,param_distributions=params,n_iter=20,scoring='r2',random_state=19,cv=3)\n"
   ]
  },
  {
   "cell_type": "code",
   "execution_count": 13,
   "id": "34c44c24",
   "metadata": {
    "execution": {
     "iopub.execute_input": "2024-08-06T17:58:58.066890Z",
     "iopub.status.busy": "2024-08-06T17:58:58.066368Z",
     "iopub.status.idle": "2024-08-06T17:59:16.280490Z",
     "shell.execute_reply": "2024-08-06T17:59:16.279421Z"
    },
    "papermill": {
     "duration": 18.225015,
     "end_time": "2024-08-06T17:59:16.282916",
     "exception": false,
     "start_time": "2024-08-06T17:58:58.057901",
     "status": "completed"
    },
    "tags": []
   },
   "outputs": [
    {
     "data": {
      "text/html": [
       "<style>#sk-container-id-2 {color: black;background-color: white;}#sk-container-id-2 pre{padding: 0;}#sk-container-id-2 div.sk-toggleable {background-color: white;}#sk-container-id-2 label.sk-toggleable__label {cursor: pointer;display: block;width: 100%;margin-bottom: 0;padding: 0.3em;box-sizing: border-box;text-align: center;}#sk-container-id-2 label.sk-toggleable__label-arrow:before {content: \"▸\";float: left;margin-right: 0.25em;color: #696969;}#sk-container-id-2 label.sk-toggleable__label-arrow:hover:before {color: black;}#sk-container-id-2 div.sk-estimator:hover label.sk-toggleable__label-arrow:before {color: black;}#sk-container-id-2 div.sk-toggleable__content {max-height: 0;max-width: 0;overflow: hidden;text-align: left;background-color: #f0f8ff;}#sk-container-id-2 div.sk-toggleable__content pre {margin: 0.2em;color: black;border-radius: 0.25em;background-color: #f0f8ff;}#sk-container-id-2 input.sk-toggleable__control:checked~div.sk-toggleable__content {max-height: 200px;max-width: 100%;overflow: auto;}#sk-container-id-2 input.sk-toggleable__control:checked~label.sk-toggleable__label-arrow:before {content: \"▾\";}#sk-container-id-2 div.sk-estimator input.sk-toggleable__control:checked~label.sk-toggleable__label {background-color: #d4ebff;}#sk-container-id-2 div.sk-label input.sk-toggleable__control:checked~label.sk-toggleable__label {background-color: #d4ebff;}#sk-container-id-2 input.sk-hidden--visually {border: 0;clip: rect(1px 1px 1px 1px);clip: rect(1px, 1px, 1px, 1px);height: 1px;margin: -1px;overflow: hidden;padding: 0;position: absolute;width: 1px;}#sk-container-id-2 div.sk-estimator {font-family: monospace;background-color: #f0f8ff;border: 1px dotted black;border-radius: 0.25em;box-sizing: border-box;margin-bottom: 0.5em;}#sk-container-id-2 div.sk-estimator:hover {background-color: #d4ebff;}#sk-container-id-2 div.sk-parallel-item::after {content: \"\";width: 100%;border-bottom: 1px solid gray;flex-grow: 1;}#sk-container-id-2 div.sk-label:hover label.sk-toggleable__label {background-color: #d4ebff;}#sk-container-id-2 div.sk-serial::before {content: \"\";position: absolute;border-left: 1px solid gray;box-sizing: border-box;top: 0;bottom: 0;left: 50%;z-index: 0;}#sk-container-id-2 div.sk-serial {display: flex;flex-direction: column;align-items: center;background-color: white;padding-right: 0.2em;padding-left: 0.2em;position: relative;}#sk-container-id-2 div.sk-item {position: relative;z-index: 1;}#sk-container-id-2 div.sk-parallel {display: flex;align-items: stretch;justify-content: center;background-color: white;position: relative;}#sk-container-id-2 div.sk-item::before, #sk-container-id-2 div.sk-parallel-item::before {content: \"\";position: absolute;border-left: 1px solid gray;box-sizing: border-box;top: 0;bottom: 0;left: 50%;z-index: -1;}#sk-container-id-2 div.sk-parallel-item {display: flex;flex-direction: column;z-index: 1;position: relative;background-color: white;}#sk-container-id-2 div.sk-parallel-item:first-child::after {align-self: flex-end;width: 50%;}#sk-container-id-2 div.sk-parallel-item:last-child::after {align-self: flex-start;width: 50%;}#sk-container-id-2 div.sk-parallel-item:only-child::after {width: 0;}#sk-container-id-2 div.sk-dashed-wrapped {border: 1px dashed gray;margin: 0 0.4em 0.5em 0.4em;box-sizing: border-box;padding-bottom: 0.4em;background-color: white;}#sk-container-id-2 div.sk-label label {font-family: monospace;font-weight: bold;display: inline-block;line-height: 1.2em;}#sk-container-id-2 div.sk-label-container {text-align: center;}#sk-container-id-2 div.sk-container {/* jupyter's `normalize.less` sets `[hidden] { display: none; }` but bootstrap.min.css set `[hidden] { display: none !important; }` so we also need the `!important` here to be able to override the default hidden behavior on the sphinx rendered scikit-learn.org. See: https://github.com/scikit-learn/scikit-learn/issues/21755 */display: inline-block !important;position: relative;}#sk-container-id-2 div.sk-text-repr-fallback {display: none;}</style><div id=\"sk-container-id-2\" class=\"sk-top-container\"><div class=\"sk-text-repr-fallback\"><pre>RandomizedSearchCV(cv=3, estimator=RandomForestRegressor(), n_iter=20,\n",
       "                   param_distributions={&#x27;max_depth&#x27;: &lt;scipy.stats._distn_infrastructure.rv_discrete_frozen object at 0x7f4304665d20&gt;,\n",
       "                                        &#x27;min_samples_leaf&#x27;: &lt;scipy.stats._distn_infrastructure.rv_discrete_frozen object at 0x7f4304666ad0&gt;,\n",
       "                                        &#x27;n_estimators&#x27;: &lt;scipy.stats._distn_infrastructure.rv_discrete_frozen object at 0x7f43049784c0&gt;},\n",
       "                   random_state=19, scoring=&#x27;r2&#x27;)</pre><b>In a Jupyter environment, please rerun this cell to show the HTML representation or trust the notebook. <br />On GitHub, the HTML representation is unable to render, please try loading this page with nbviewer.org.</b></div><div class=\"sk-container\" hidden><div class=\"sk-item sk-dashed-wrapped\"><div class=\"sk-label-container\"><div class=\"sk-label sk-toggleable\"><input class=\"sk-toggleable__control sk-hidden--visually\" id=\"sk-estimator-id-4\" type=\"checkbox\" ><label for=\"sk-estimator-id-4\" class=\"sk-toggleable__label sk-toggleable__label-arrow\">RandomizedSearchCV</label><div class=\"sk-toggleable__content\"><pre>RandomizedSearchCV(cv=3, estimator=RandomForestRegressor(), n_iter=20,\n",
       "                   param_distributions={&#x27;max_depth&#x27;: &lt;scipy.stats._distn_infrastructure.rv_discrete_frozen object at 0x7f4304665d20&gt;,\n",
       "                                        &#x27;min_samples_leaf&#x27;: &lt;scipy.stats._distn_infrastructure.rv_discrete_frozen object at 0x7f4304666ad0&gt;,\n",
       "                                        &#x27;n_estimators&#x27;: &lt;scipy.stats._distn_infrastructure.rv_discrete_frozen object at 0x7f43049784c0&gt;},\n",
       "                   random_state=19, scoring=&#x27;r2&#x27;)</pre></div></div></div><div class=\"sk-parallel\"><div class=\"sk-parallel-item\"><div class=\"sk-item\"><div class=\"sk-label-container\"><div class=\"sk-label sk-toggleable\"><input class=\"sk-toggleable__control sk-hidden--visually\" id=\"sk-estimator-id-5\" type=\"checkbox\" ><label for=\"sk-estimator-id-5\" class=\"sk-toggleable__label sk-toggleable__label-arrow\">estimator: RandomForestRegressor</label><div class=\"sk-toggleable__content\"><pre>RandomForestRegressor()</pre></div></div></div><div class=\"sk-serial\"><div class=\"sk-item\"><div class=\"sk-estimator sk-toggleable\"><input class=\"sk-toggleable__control sk-hidden--visually\" id=\"sk-estimator-id-6\" type=\"checkbox\" ><label for=\"sk-estimator-id-6\" class=\"sk-toggleable__label sk-toggleable__label-arrow\">RandomForestRegressor</label><div class=\"sk-toggleable__content\"><pre>RandomForestRegressor()</pre></div></div></div></div></div></div></div></div></div></div>"
      ],
      "text/plain": [
       "RandomizedSearchCV(cv=3, estimator=RandomForestRegressor(), n_iter=20,\n",
       "                   param_distributions={'max_depth': <scipy.stats._distn_infrastructure.rv_discrete_frozen object at 0x7f4304665d20>,\n",
       "                                        'min_samples_leaf': <scipy.stats._distn_infrastructure.rv_discrete_frozen object at 0x7f4304666ad0>,\n",
       "                                        'n_estimators': <scipy.stats._distn_infrastructure.rv_discrete_frozen object at 0x7f43049784c0>},\n",
       "                   random_state=19, scoring='r2')"
      ]
     },
     "execution_count": 13,
     "metadata": {},
     "output_type": "execute_result"
    }
   ],
   "source": [
    "rs2.fit(x_train,y_train)"
   ]
  },
  {
   "cell_type": "code",
   "execution_count": 14,
   "id": "518bd4f2",
   "metadata": {
    "execution": {
     "iopub.execute_input": "2024-08-06T17:59:16.299701Z",
     "iopub.status.busy": "2024-08-06T17:59:16.299284Z",
     "iopub.status.idle": "2024-08-06T17:59:16.305178Z",
     "shell.execute_reply": "2024-08-06T17:59:16.304067Z"
    },
    "papermill": {
     "duration": 0.017616,
     "end_time": "2024-08-06T17:59:16.308052",
     "exception": false,
     "start_time": "2024-08-06T17:59:16.290436",
     "status": "completed"
    },
    "tags": []
   },
   "outputs": [
    {
     "name": "stdout",
     "output_type": "stream",
     "text": [
      "RandomForestRegressor(max_depth=42, min_samples_leaf=2, n_estimators=44)\n",
      "0.9673801857775127\n"
     ]
    }
   ],
   "source": [
    "print(rs2.best_estimator_)\n",
    "print(rs2.best_score_)"
   ]
  },
  {
   "cell_type": "code",
   "execution_count": 15,
   "id": "9808e094",
   "metadata": {
    "execution": {
     "iopub.execute_input": "2024-08-06T17:59:16.325688Z",
     "iopub.status.busy": "2024-08-06T17:59:16.324555Z",
     "iopub.status.idle": "2024-08-06T17:59:16.342761Z",
     "shell.execute_reply": "2024-08-06T17:59:16.341700Z"
    },
    "papermill": {
     "duration": 0.030142,
     "end_time": "2024-08-06T17:59:16.345699",
     "exception": false,
     "start_time": "2024-08-06T17:59:16.315557",
     "status": "completed"
    },
    "tags": []
   },
   "outputs": [],
   "source": [
    "y_pred=rs2.best_estimator_.predict(x_test)"
   ]
  },
  {
   "cell_type": "code",
   "execution_count": 16,
   "id": "bfd075de",
   "metadata": {
    "execution": {
     "iopub.execute_input": "2024-08-06T17:59:16.362875Z",
     "iopub.status.busy": "2024-08-06T17:59:16.362442Z",
     "iopub.status.idle": "2024-08-06T17:59:16.370089Z",
     "shell.execute_reply": "2024-08-06T17:59:16.368877Z"
    },
    "papermill": {
     "duration": 0.018981,
     "end_time": "2024-08-06T17:59:16.372449",
     "exception": false,
     "start_time": "2024-08-06T17:59:16.353468",
     "status": "completed"
    },
    "tags": []
   },
   "outputs": [
    {
     "name": "stdout",
     "output_type": "stream",
     "text": [
      "0.9763728505081645\n"
     ]
    }
   ],
   "source": [
    "from sklearn.metrics import mean_squared_error, r2_score\n",
    "print(r2_score(y_test,y_pred))"
   ]
  }
 ],
 "metadata": {
  "kaggle": {
   "accelerator": "none",
   "dataSources": [
    {
     "datasetId": 3282301,
     "sourceId": 5716504,
     "sourceType": "datasetVersion"
    }
   ],
   "dockerImageVersionId": 30746,
   "isGpuEnabled": false,
   "isInternetEnabled": true,
   "language": "python",
   "sourceType": "notebook"
  },
  "kernelspec": {
   "display_name": "Python 3",
   "language": "python",
   "name": "python3"
  },
  "language_info": {
   "codemirror_mode": {
    "name": "ipython",
    "version": 3
   },
   "file_extension": ".py",
   "mimetype": "text/x-python",
   "name": "python",
   "nbconvert_exporter": "python",
   "pygments_lexer": "ipython3",
   "version": "3.10.13"
  },
  "papermill": {
   "default_parameters": {},
   "duration": 25.436847,
   "end_time": "2024-08-06T17:59:17.001967",
   "environment_variables": {},
   "exception": null,
   "input_path": "__notebook__.ipynb",
   "output_path": "__notebook__.ipynb",
   "parameters": {},
   "start_time": "2024-08-06T17:58:51.565120",
   "version": "2.5.0"
  }
 },
 "nbformat": 4,
 "nbformat_minor": 5
}
